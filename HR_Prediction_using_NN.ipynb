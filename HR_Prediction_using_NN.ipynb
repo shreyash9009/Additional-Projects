{
 "cells": [
  {
   "cell_type": "markdown",
   "id": "c2133da4",
   "metadata": {},
   "source": [
    "## Simple Neural Network\n",
    "\n",
    "It is a simple classfication problem using HR Data.  The target variable is 'left'"
   ]
  },
  {
   "cell_type": "code",
   "execution_count": 87,
   "id": "bb707f99",
   "metadata": {},
   "outputs": [],
   "source": [
    "import pandas as pd\n",
    "import numpy as np\n"
   ]
  },
  {
   "cell_type": "code",
   "execution_count": 88,
   "id": "a1ea5376",
   "metadata": {},
   "outputs": [],
   "source": [
    "## Reading the data\n",
    "df = pd.read_csv(\"F:/Python Learning/Imarticus/Dataset/hr_data.csv\")"
   ]
  },
  {
   "cell_type": "code",
   "execution_count": 89,
   "id": "71509a0c",
   "metadata": {},
   "outputs": [
    {
     "name": "stdout",
     "output_type": "stream",
     "text": [
      "<class 'pandas.core.frame.DataFrame'>\n",
      "RangeIndex: 14999 entries, 0 to 14998\n",
      "Data columns (total 10 columns):\n",
      " #   Column                 Non-Null Count  Dtype  \n",
      "---  ------                 --------------  -----  \n",
      " 0   satisfaction_level     14999 non-null  float64\n",
      " 1   last_evaluation        14999 non-null  float64\n",
      " 2   number_project         14999 non-null  int64  \n",
      " 3   average_montly_hours   14999 non-null  int64  \n",
      " 4   time_spend_company     14999 non-null  int64  \n",
      " 5   Work_accident          14999 non-null  int64  \n",
      " 6   left                   14999 non-null  int64  \n",
      " 7   promotion_last_5years  14999 non-null  int64  \n",
      " 8   department             14999 non-null  object \n",
      " 9   salary                 14999 non-null  object \n",
      "dtypes: float64(2), int64(6), object(2)\n",
      "memory usage: 1.1+ MB\n"
     ]
    }
   ],
   "source": [
    "df.info()"
   ]
  },
  {
   "cell_type": "code",
   "execution_count": 90,
   "id": "e20228b0",
   "metadata": {},
   "outputs": [
    {
     "data": {
      "text/html": [
       "<div>\n",
       "<style scoped>\n",
       "    .dataframe tbody tr th:only-of-type {\n",
       "        vertical-align: middle;\n",
       "    }\n",
       "\n",
       "    .dataframe tbody tr th {\n",
       "        vertical-align: top;\n",
       "    }\n",
       "\n",
       "    .dataframe thead th {\n",
       "        text-align: right;\n",
       "    }\n",
       "</style>\n",
       "<table border=\"1\" class=\"dataframe\">\n",
       "  <thead>\n",
       "    <tr style=\"text-align: right;\">\n",
       "      <th></th>\n",
       "      <th>satisfaction_level</th>\n",
       "      <th>last_evaluation</th>\n",
       "      <th>number_project</th>\n",
       "      <th>average_montly_hours</th>\n",
       "      <th>time_spend_company</th>\n",
       "      <th>Work_accident</th>\n",
       "      <th>left</th>\n",
       "      <th>promotion_last_5years</th>\n",
       "      <th>department</th>\n",
       "      <th>salary</th>\n",
       "    </tr>\n",
       "  </thead>\n",
       "  <tbody>\n",
       "    <tr>\n",
       "      <th>0</th>\n",
       "      <td>0.38</td>\n",
       "      <td>0.53</td>\n",
       "      <td>2</td>\n",
       "      <td>157</td>\n",
       "      <td>3</td>\n",
       "      <td>0</td>\n",
       "      <td>1</td>\n",
       "      <td>0</td>\n",
       "      <td>sales</td>\n",
       "      <td>low</td>\n",
       "    </tr>\n",
       "    <tr>\n",
       "      <th>1</th>\n",
       "      <td>0.80</td>\n",
       "      <td>0.86</td>\n",
       "      <td>5</td>\n",
       "      <td>262</td>\n",
       "      <td>6</td>\n",
       "      <td>0</td>\n",
       "      <td>1</td>\n",
       "      <td>0</td>\n",
       "      <td>sales</td>\n",
       "      <td>medium</td>\n",
       "    </tr>\n",
       "    <tr>\n",
       "      <th>2</th>\n",
       "      <td>0.11</td>\n",
       "      <td>0.88</td>\n",
       "      <td>7</td>\n",
       "      <td>272</td>\n",
       "      <td>4</td>\n",
       "      <td>0</td>\n",
       "      <td>1</td>\n",
       "      <td>0</td>\n",
       "      <td>sales</td>\n",
       "      <td>medium</td>\n",
       "    </tr>\n",
       "    <tr>\n",
       "      <th>3</th>\n",
       "      <td>0.72</td>\n",
       "      <td>0.87</td>\n",
       "      <td>5</td>\n",
       "      <td>223</td>\n",
       "      <td>5</td>\n",
       "      <td>0</td>\n",
       "      <td>1</td>\n",
       "      <td>0</td>\n",
       "      <td>sales</td>\n",
       "      <td>low</td>\n",
       "    </tr>\n",
       "    <tr>\n",
       "      <th>4</th>\n",
       "      <td>0.37</td>\n",
       "      <td>0.52</td>\n",
       "      <td>2</td>\n",
       "      <td>159</td>\n",
       "      <td>3</td>\n",
       "      <td>0</td>\n",
       "      <td>1</td>\n",
       "      <td>0</td>\n",
       "      <td>sales</td>\n",
       "      <td>low</td>\n",
       "    </tr>\n",
       "  </tbody>\n",
       "</table>\n",
       "</div>"
      ],
      "text/plain": [
       "   satisfaction_level  last_evaluation  number_project  average_montly_hours  \\\n",
       "0                0.38             0.53               2                   157   \n",
       "1                0.80             0.86               5                   262   \n",
       "2                0.11             0.88               7                   272   \n",
       "3                0.72             0.87               5                   223   \n",
       "4                0.37             0.52               2                   159   \n",
       "\n",
       "   time_spend_company  Work_accident  left  promotion_last_5years department  \\\n",
       "0                   3              0     1                      0      sales   \n",
       "1                   6              0     1                      0      sales   \n",
       "2                   4              0     1                      0      sales   \n",
       "3                   5              0     1                      0      sales   \n",
       "4                   3              0     1                      0      sales   \n",
       "\n",
       "   salary  \n",
       "0     low  \n",
       "1  medium  \n",
       "2  medium  \n",
       "3     low  \n",
       "4     low  "
      ]
     },
     "execution_count": 90,
     "metadata": {},
     "output_type": "execute_result"
    }
   ],
   "source": [
    "df.head()"
   ]
  },
  {
   "cell_type": "code",
   "execution_count": 91,
   "id": "8ee1d799",
   "metadata": {},
   "outputs": [
    {
     "data": {
      "text/plain": [
       "0    11428\n",
       "1     3571\n",
       "Name: left, dtype: int64"
      ]
     },
     "execution_count": 91,
     "metadata": {},
     "output_type": "execute_result"
    }
   ],
   "source": [
    "## Checking the target variable\n",
    "df.left.value_counts()"
   ]
  },
  {
   "cell_type": "markdown",
   "id": "7b55ec56",
   "metadata": {},
   "source": [
    "Neural networks will accept only numerical data.  Hence we will convert all categorical data into a numerical data using get_dummeis function"
   ]
  },
  {
   "cell_type": "code",
   "execution_count": 92,
   "id": "e94f9e1f",
   "metadata": {},
   "outputs": [],
   "source": [
    "feats = ['department','salary']\n",
    "df_final = pd.get_dummies(df,columns=feats,drop_first=True)"
   ]
  },
  {
   "cell_type": "code",
   "execution_count": 93,
   "id": "d09239f7",
   "metadata": {},
   "outputs": [
    {
     "data": {
      "text/html": [
       "<div>\n",
       "<style scoped>\n",
       "    .dataframe tbody tr th:only-of-type {\n",
       "        vertical-align: middle;\n",
       "    }\n",
       "\n",
       "    .dataframe tbody tr th {\n",
       "        vertical-align: top;\n",
       "    }\n",
       "\n",
       "    .dataframe thead th {\n",
       "        text-align: right;\n",
       "    }\n",
       "</style>\n",
       "<table border=\"1\" class=\"dataframe\">\n",
       "  <thead>\n",
       "    <tr style=\"text-align: right;\">\n",
       "      <th></th>\n",
       "      <th>satisfaction_level</th>\n",
       "      <th>last_evaluation</th>\n",
       "      <th>number_project</th>\n",
       "      <th>average_montly_hours</th>\n",
       "      <th>time_spend_company</th>\n",
       "      <th>Work_accident</th>\n",
       "      <th>left</th>\n",
       "      <th>promotion_last_5years</th>\n",
       "      <th>department_RandD</th>\n",
       "      <th>department_accounting</th>\n",
       "      <th>department_hr</th>\n",
       "      <th>department_management</th>\n",
       "      <th>department_marketing</th>\n",
       "      <th>department_product_mng</th>\n",
       "      <th>department_sales</th>\n",
       "      <th>department_support</th>\n",
       "      <th>department_technical</th>\n",
       "      <th>salary_low</th>\n",
       "      <th>salary_medium</th>\n",
       "    </tr>\n",
       "  </thead>\n",
       "  <tbody>\n",
       "    <tr>\n",
       "      <th>0</th>\n",
       "      <td>0.38</td>\n",
       "      <td>0.53</td>\n",
       "      <td>2</td>\n",
       "      <td>157</td>\n",
       "      <td>3</td>\n",
       "      <td>0</td>\n",
       "      <td>1</td>\n",
       "      <td>0</td>\n",
       "      <td>0</td>\n",
       "      <td>0</td>\n",
       "      <td>0</td>\n",
       "      <td>0</td>\n",
       "      <td>0</td>\n",
       "      <td>0</td>\n",
       "      <td>1</td>\n",
       "      <td>0</td>\n",
       "      <td>0</td>\n",
       "      <td>1</td>\n",
       "      <td>0</td>\n",
       "    </tr>\n",
       "    <tr>\n",
       "      <th>1</th>\n",
       "      <td>0.80</td>\n",
       "      <td>0.86</td>\n",
       "      <td>5</td>\n",
       "      <td>262</td>\n",
       "      <td>6</td>\n",
       "      <td>0</td>\n",
       "      <td>1</td>\n",
       "      <td>0</td>\n",
       "      <td>0</td>\n",
       "      <td>0</td>\n",
       "      <td>0</td>\n",
       "      <td>0</td>\n",
       "      <td>0</td>\n",
       "      <td>0</td>\n",
       "      <td>1</td>\n",
       "      <td>0</td>\n",
       "      <td>0</td>\n",
       "      <td>0</td>\n",
       "      <td>1</td>\n",
       "    </tr>\n",
       "    <tr>\n",
       "      <th>2</th>\n",
       "      <td>0.11</td>\n",
       "      <td>0.88</td>\n",
       "      <td>7</td>\n",
       "      <td>272</td>\n",
       "      <td>4</td>\n",
       "      <td>0</td>\n",
       "      <td>1</td>\n",
       "      <td>0</td>\n",
       "      <td>0</td>\n",
       "      <td>0</td>\n",
       "      <td>0</td>\n",
       "      <td>0</td>\n",
       "      <td>0</td>\n",
       "      <td>0</td>\n",
       "      <td>1</td>\n",
       "      <td>0</td>\n",
       "      <td>0</td>\n",
       "      <td>0</td>\n",
       "      <td>1</td>\n",
       "    </tr>\n",
       "    <tr>\n",
       "      <th>3</th>\n",
       "      <td>0.72</td>\n",
       "      <td>0.87</td>\n",
       "      <td>5</td>\n",
       "      <td>223</td>\n",
       "      <td>5</td>\n",
       "      <td>0</td>\n",
       "      <td>1</td>\n",
       "      <td>0</td>\n",
       "      <td>0</td>\n",
       "      <td>0</td>\n",
       "      <td>0</td>\n",
       "      <td>0</td>\n",
       "      <td>0</td>\n",
       "      <td>0</td>\n",
       "      <td>1</td>\n",
       "      <td>0</td>\n",
       "      <td>0</td>\n",
       "      <td>1</td>\n",
       "      <td>0</td>\n",
       "    </tr>\n",
       "    <tr>\n",
       "      <th>4</th>\n",
       "      <td>0.37</td>\n",
       "      <td>0.52</td>\n",
       "      <td>2</td>\n",
       "      <td>159</td>\n",
       "      <td>3</td>\n",
       "      <td>0</td>\n",
       "      <td>1</td>\n",
       "      <td>0</td>\n",
       "      <td>0</td>\n",
       "      <td>0</td>\n",
       "      <td>0</td>\n",
       "      <td>0</td>\n",
       "      <td>0</td>\n",
       "      <td>0</td>\n",
       "      <td>1</td>\n",
       "      <td>0</td>\n",
       "      <td>0</td>\n",
       "      <td>1</td>\n",
       "      <td>0</td>\n",
       "    </tr>\n",
       "  </tbody>\n",
       "</table>\n",
       "</div>"
      ],
      "text/plain": [
       "   satisfaction_level  last_evaluation  number_project  average_montly_hours  \\\n",
       "0                0.38             0.53               2                   157   \n",
       "1                0.80             0.86               5                   262   \n",
       "2                0.11             0.88               7                   272   \n",
       "3                0.72             0.87               5                   223   \n",
       "4                0.37             0.52               2                   159   \n",
       "\n",
       "   time_spend_company  Work_accident  left  promotion_last_5years  \\\n",
       "0                   3              0     1                      0   \n",
       "1                   6              0     1                      0   \n",
       "2                   4              0     1                      0   \n",
       "3                   5              0     1                      0   \n",
       "4                   3              0     1                      0   \n",
       "\n",
       "   department_RandD  department_accounting  department_hr  \\\n",
       "0                 0                      0              0   \n",
       "1                 0                      0              0   \n",
       "2                 0                      0              0   \n",
       "3                 0                      0              0   \n",
       "4                 0                      0              0   \n",
       "\n",
       "   department_management  department_marketing  department_product_mng  \\\n",
       "0                      0                     0                       0   \n",
       "1                      0                     0                       0   \n",
       "2                      0                     0                       0   \n",
       "3                      0                     0                       0   \n",
       "4                      0                     0                       0   \n",
       "\n",
       "   department_sales  department_support  department_technical  salary_low  \\\n",
       "0                 1                   0                     0           1   \n",
       "1                 1                   0                     0           0   \n",
       "2                 1                   0                     0           0   \n",
       "3                 1                   0                     0           1   \n",
       "4                 1                   0                     0           1   \n",
       "\n",
       "   salary_medium  \n",
       "0              0  \n",
       "1              1  \n",
       "2              1  \n",
       "3              0  \n",
       "4              0  "
      ]
     },
     "execution_count": 93,
     "metadata": {},
     "output_type": "execute_result"
    }
   ],
   "source": [
    "df_final.head()"
   ]
  },
  {
   "cell_type": "code",
   "execution_count": 94,
   "id": "8b0eedb4",
   "metadata": {},
   "outputs": [],
   "source": [
    "## Creating Independent and dependent variables\n",
    "X = df_final.drop(['left'],axis=1).values\n",
    "y = df_final['left'].values"
   ]
  },
  {
   "cell_type": "code",
   "execution_count": 95,
   "id": "2246729d",
   "metadata": {},
   "outputs": [],
   "source": [
    "## Splitting the data\n",
    "from sklearn.model_selection import train_test_split\n",
    "X_train, X_test, y_train, y_test = train_test_split(X, y, test_size = .25)"
   ]
  },
  {
   "cell_type": "code",
   "execution_count": 96,
   "id": "b7bc9edb",
   "metadata": {},
   "outputs": [],
   "source": [
    "## Scalling the data\n",
    "from sklearn.preprocessing import StandardScaler\n",
    "sc = StandardScaler()\n",
    "X_train = sc.fit_transform(X_train)\n",
    "X_test = sc.transform(X_test)"
   ]
  },
  {
   "cell_type": "code",
   "execution_count": 97,
   "id": "66693fcb",
   "metadata": {},
   "outputs": [
    {
     "data": {
      "text/plain": [
       "(11249, 18)"
      ]
     },
     "execution_count": 97,
     "metadata": {},
     "output_type": "execute_result"
    }
   ],
   "source": [
    "X_train.shape"
   ]
  },
  {
   "cell_type": "markdown",
   "id": "c24923fa",
   "metadata": {},
   "source": [
    "### Building the Neural Network"
   ]
  },
  {
   "cell_type": "code",
   "execution_count": 98,
   "id": "40a5f408",
   "metadata": {},
   "outputs": [],
   "source": [
    "## Let us import the required libraries\n",
    "import keras\n",
    "from keras.models import Sequential\n",
    "from keras.layers import Dense"
   ]
  },
  {
   "cell_type": "code",
   "execution_count": 99,
   "id": "d604084c",
   "metadata": {},
   "outputs": [],
   "source": [
    "classifier = Sequential()"
   ]
  },
  {
   "cell_type": "code",
   "execution_count": 100,
   "id": "0cbf3911",
   "metadata": {},
   "outputs": [],
   "source": [
    "classifier.add(Dense(18, kernel_initializer = \"uniform\",activation = \"relu\", input_dim=18))\n",
    "classifier.add(Dense(9, kernel_initializer = 'uniform', activation = 'relu'))"
   ]
  },
  {
   "cell_type": "code",
   "execution_count": 101,
   "id": "09760dc5",
   "metadata": {},
   "outputs": [],
   "source": [
    "classifier.add(Dense(1, kernel_initializer = \"uniform\",activation = \"sigmoid\"))"
   ]
  },
  {
   "cell_type": "code",
   "execution_count": 102,
   "id": "4b0968db",
   "metadata": {},
   "outputs": [],
   "source": [
    "classifier.compile(optimizer= \"adam\",loss = \"binary_crossentropy\",metrics = [\"accuracy\"])"
   ]
  },
  {
   "cell_type": "code",
   "execution_count": 103,
   "id": "e252fbcb",
   "metadata": {},
   "outputs": [
    {
     "name": "stdout",
     "output_type": "stream",
     "text": [
      "Model: \"sequential_2\"\n",
      "_________________________________________________________________\n",
      " Layer (type)                Output Shape              Param #   \n",
      "=================================================================\n",
      " dense_4 (Dense)             (None, 18)                342       \n",
      "                                                                 \n",
      " dense_5 (Dense)             (None, 9)                 171       \n",
      "                                                                 \n",
      " dense_6 (Dense)             (None, 1)                 10        \n",
      "                                                                 \n",
      "=================================================================\n",
      "Total params: 523\n",
      "Trainable params: 523\n",
      "Non-trainable params: 0\n",
      "_________________________________________________________________\n"
     ]
    }
   ],
   "source": [
    "classifier.summary()"
   ]
  },
  {
   "cell_type": "code",
   "execution_count": 104,
   "id": "0b55b144",
   "metadata": {},
   "outputs": [
    {
     "name": "stdout",
     "output_type": "stream",
     "text": [
      "Epoch 1/50\n",
      "352/352 [==============================] - 0s 631us/step - loss: 0.4857 - accuracy: 0.7609\n",
      "Epoch 2/50\n",
      "352/352 [==============================] - 0s 619us/step - loss: 0.3302 - accuracy: 0.8254\n",
      "Epoch 3/50\n",
      "352/352 [==============================] - 0s 599us/step - loss: 0.2833 - accuracy: 0.9123\n",
      "Epoch 4/50\n",
      "352/352 [==============================] - 0s 617us/step - loss: 0.2601 - accuracy: 0.9296\n",
      "Epoch 5/50\n",
      "352/352 [==============================] - 0s 605us/step - loss: 0.2439 - accuracy: 0.9348\n",
      "Epoch 6/50\n",
      "352/352 [==============================] - 0s 611us/step - loss: 0.2325 - accuracy: 0.9384\n",
      "Epoch 7/50\n",
      "352/352 [==============================] - 0s 608us/step - loss: 0.2235 - accuracy: 0.9378\n",
      "Epoch 8/50\n",
      "352/352 [==============================] - 0s 599us/step - loss: 0.2164 - accuracy: 0.9396\n",
      "Epoch 9/50\n",
      "352/352 [==============================] - 0s 606us/step - loss: 0.2110 - accuracy: 0.9427\n",
      "Epoch 10/50\n",
      "352/352 [==============================] - 0s 659us/step - loss: 0.2069 - accuracy: 0.9426\n",
      "Epoch 11/50\n",
      "352/352 [==============================] - 0s 702us/step - loss: 0.1999 - accuracy: 0.9445\n",
      "Epoch 12/50\n",
      "352/352 [==============================] - 0s 647us/step - loss: 0.1821 - accuracy: 0.9500\n",
      "Epoch 13/50\n",
      "352/352 [==============================] - 0s 614us/step - loss: 0.1733 - accuracy: 0.9540\n",
      "Epoch 14/50\n",
      "352/352 [==============================] - 0s 615us/step - loss: 0.1670 - accuracy: 0.9545\n",
      "Epoch 15/50\n",
      "352/352 [==============================] - 0s 625us/step - loss: 0.1625 - accuracy: 0.9563\n",
      "Epoch 16/50\n",
      "352/352 [==============================] - 0s 610us/step - loss: 0.1588 - accuracy: 0.9569\n",
      "Epoch 17/50\n",
      "352/352 [==============================] - 0s 625us/step - loss: 0.1544 - accuracy: 0.9583\n",
      "Epoch 18/50\n",
      "352/352 [==============================] - 0s 640us/step - loss: 0.1517 - accuracy: 0.9596\n",
      "Epoch 19/50\n",
      "352/352 [==============================] - 0s 636us/step - loss: 0.1480 - accuracy: 0.9607\n",
      "Epoch 20/50\n",
      "352/352 [==============================] - 0s 639us/step - loss: 0.1459 - accuracy: 0.9590\n",
      "Epoch 21/50\n",
      "352/352 [==============================] - 0s 633us/step - loss: 0.1442 - accuracy: 0.9613\n",
      "Epoch 22/50\n",
      "352/352 [==============================] - 0s 614us/step - loss: 0.1425 - accuracy: 0.9609\n",
      "Epoch 23/50\n",
      "352/352 [==============================] - 0s 619us/step - loss: 0.1403 - accuracy: 0.9611\n",
      "Epoch 24/50\n",
      "352/352 [==============================] - 0s 625us/step - loss: 0.1380 - accuracy: 0.9610\n",
      "Epoch 25/50\n",
      "352/352 [==============================] - 0s 622us/step - loss: 0.1362 - accuracy: 0.9626\n",
      "Epoch 26/50\n",
      "352/352 [==============================] - 0s 608us/step - loss: 0.1353 - accuracy: 0.9634\n",
      "Epoch 27/50\n",
      "352/352 [==============================] - 0s 619us/step - loss: 0.1334 - accuracy: 0.9643\n",
      "Epoch 28/50\n",
      "352/352 [==============================] - 0s 622us/step - loss: 0.1321 - accuracy: 0.9640\n",
      "Epoch 29/50\n",
      "352/352 [==============================] - 0s 624us/step - loss: 0.1305 - accuracy: 0.9633\n",
      "Epoch 30/50\n",
      "352/352 [==============================] - 0s 653us/step - loss: 0.1280 - accuracy: 0.9642\n",
      "Epoch 31/50\n",
      "352/352 [==============================] - 0s 625us/step - loss: 0.1268 - accuracy: 0.9644\n",
      "Epoch 32/50\n",
      "352/352 [==============================] - 0s 619us/step - loss: 0.1250 - accuracy: 0.9647\n",
      "Epoch 33/50\n",
      "352/352 [==============================] - 0s 633us/step - loss: 0.1241 - accuracy: 0.9652\n",
      "Epoch 34/50\n",
      "352/352 [==============================] - 0s 622us/step - loss: 0.1225 - accuracy: 0.9652\n",
      "Epoch 35/50\n",
      "352/352 [==============================] - 0s 630us/step - loss: 0.1209 - accuracy: 0.9657\n",
      "Epoch 36/50\n",
      "352/352 [==============================] - 0s 640us/step - loss: 0.1194 - accuracy: 0.9654\n",
      "Epoch 37/50\n",
      "352/352 [==============================] - 0s 633us/step - loss: 0.1186 - accuracy: 0.9666\n",
      "Epoch 38/50\n",
      "352/352 [==============================] - 0s 625us/step - loss: 0.1173 - accuracy: 0.9664\n",
      "Epoch 39/50\n",
      "352/352 [==============================] - 0s 631us/step - loss: 0.1159 - accuracy: 0.9665\n",
      "Epoch 40/50\n",
      "352/352 [==============================] - 0s 630us/step - loss: 0.1153 - accuracy: 0.9668\n",
      "Epoch 41/50\n",
      "352/352 [==============================] - 0s 623us/step - loss: 0.1139 - accuracy: 0.9683\n",
      "Epoch 42/50\n",
      "352/352 [==============================] - 0s 648us/step - loss: 0.1128 - accuracy: 0.9678\n",
      "Epoch 43/50\n",
      "352/352 [==============================] - 0s 662us/step - loss: 0.1125 - accuracy: 0.9679\n",
      "Epoch 44/50\n",
      "352/352 [==============================] - 0s 636us/step - loss: 0.1122 - accuracy: 0.9682\n",
      "Epoch 45/50\n",
      "352/352 [==============================] - 0s 628us/step - loss: 0.1118 - accuracy: 0.9683\n",
      "Epoch 46/50\n",
      "352/352 [==============================] - 0s 634us/step - loss: 0.1109 - accuracy: 0.9680\n",
      "Epoch 47/50\n",
      "352/352 [==============================] - 0s 631us/step - loss: 0.1099 - accuracy: 0.9692\n",
      "Epoch 48/50\n",
      "352/352 [==============================] - 0s 633us/step - loss: 0.1090 - accuracy: 0.9684\n",
      "Epoch 49/50\n",
      "352/352 [==============================] - 0s 659us/step - loss: 0.1087 - accuracy: 0.9696\n",
      "Epoch 50/50\n",
      "352/352 [==============================] - 0s 639us/step - loss: 0.1089 - accuracy: 0.9690\n"
     ]
    },
    {
     "data": {
      "text/plain": [
       "<keras.callbacks.History at 0x2014ede3be0>"
      ]
     },
     "execution_count": 104,
     "metadata": {},
     "output_type": "execute_result"
    }
   ],
   "source": [
    "classifier.fit(X_train, y_train, batch_size = 32, epochs = 50)"
   ]
  },
  {
   "cell_type": "code",
   "execution_count": 105,
   "id": "b13a99b0",
   "metadata": {},
   "outputs": [
    {
     "name": "stdout",
     "output_type": "stream",
     "text": [
      "118/118 [==============================] - 0s 409us/step\n"
     ]
    }
   ],
   "source": [
    "y_pred = classifier.predict(X_test)"
   ]
  },
  {
   "cell_type": "code",
   "execution_count": 106,
   "id": "ab5e04ee",
   "metadata": {},
   "outputs": [
    {
     "data": {
      "text/plain": [
       "array([[0.02815126],\n",
       "       [0.00289732],\n",
       "       [0.00256498],\n",
       "       [0.01679473],\n",
       "       [0.00209251],\n",
       "       [0.00711509],\n",
       "       [0.02024761],\n",
       "       [0.99466705],\n",
       "       [0.99494374],\n",
       "       [0.01290044]], dtype=float32)"
      ]
     },
     "execution_count": 106,
     "metadata": {},
     "output_type": "execute_result"
    }
   ],
   "source": [
    "y_pred[:10]"
   ]
  },
  {
   "cell_type": "code",
   "execution_count": 107,
   "id": "6d72a737",
   "metadata": {},
   "outputs": [],
   "source": [
    "y_pred = np.round(y_pred)"
   ]
  },
  {
   "cell_type": "code",
   "execution_count": 108,
   "id": "cc9d5f80",
   "metadata": {},
   "outputs": [
    {
     "data": {
      "text/plain": [
       "array([[0.],\n",
       "       [0.],\n",
       "       [0.],\n",
       "       [0.],\n",
       "       [0.],\n",
       "       [0.],\n",
       "       [0.],\n",
       "       [1.],\n",
       "       [1.],\n",
       "       [0.]], dtype=float32)"
      ]
     },
     "execution_count": 108,
     "metadata": {},
     "output_type": "execute_result"
    }
   ],
   "source": [
    "y_pred[:10]"
   ]
  },
  {
   "cell_type": "code",
   "execution_count": 109,
   "id": "b92c8924",
   "metadata": {},
   "outputs": [
    {
     "data": {
      "text/plain": [
       "array([[2814,   46],\n",
       "       [  73,  817]], dtype=int64)"
      ]
     },
     "execution_count": 109,
     "metadata": {},
     "output_type": "execute_result"
    }
   ],
   "source": [
    "from sklearn.metrics import confusion_matrix, classification_report\n",
    "cm = confusion_matrix(y_test, y_pred)\n",
    "cm\n"
   ]
  },
  {
   "cell_type": "code",
   "execution_count": 110,
   "id": "5ab284c3",
   "metadata": {},
   "outputs": [
    {
     "name": "stdout",
     "output_type": "stream",
     "text": [
      "              precision    recall  f1-score   support\n",
      "\n",
      "           0       0.97      0.98      0.98      2860\n",
      "           1       0.95      0.92      0.93       890\n",
      "\n",
      "    accuracy                           0.97      3750\n",
      "   macro avg       0.96      0.95      0.96      3750\n",
      "weighted avg       0.97      0.97      0.97      3750\n",
      "\n"
     ]
    }
   ],
   "source": [
    "## Classification Report\n",
    "print(classification_report(y_test, y_pred))\n"
   ]
  },
  {
   "cell_type": "markdown",
   "id": "478422ee",
   "metadata": {},
   "source": [
    "## Using validation_split"
   ]
  },
  {
   "cell_type": "code",
   "execution_count": 111,
   "id": "9b696577",
   "metadata": {},
   "outputs": [
    {
     "name": "stdout",
     "output_type": "stream",
     "text": [
      "Epoch 1/50\n",
      "563/563 [==============================] - 0s 837us/step - loss: 0.1147 - accuracy: 0.9666 - val_loss: 0.1003 - val_accuracy: 0.9747\n",
      "Epoch 2/50\n",
      "563/563 [==============================] - 0s 722us/step - loss: 0.1127 - accuracy: 0.9670 - val_loss: 0.0961 - val_accuracy: 0.9738\n",
      "Epoch 3/50\n",
      "563/563 [==============================] - 0s 743us/step - loss: 0.1106 - accuracy: 0.9682 - val_loss: 0.1044 - val_accuracy: 0.9738\n",
      "Epoch 4/50\n",
      "563/563 [==============================] - 0s 734us/step - loss: 0.1106 - accuracy: 0.9666 - val_loss: 0.1001 - val_accuracy: 0.9729\n",
      "Epoch 5/50\n",
      "563/563 [==============================] - 0s 729us/step - loss: 0.1088 - accuracy: 0.9689 - val_loss: 0.0992 - val_accuracy: 0.9729\n",
      "Epoch 6/50\n",
      "563/563 [==============================] - 0s 726us/step - loss: 0.1086 - accuracy: 0.9683 - val_loss: 0.0991 - val_accuracy: 0.9724\n",
      "Epoch 7/50\n",
      "563/563 [==============================] - 0s 723us/step - loss: 0.1079 - accuracy: 0.9689 - val_loss: 0.1004 - val_accuracy: 0.9707\n",
      "Epoch 8/50\n",
      "563/563 [==============================] - 0s 743us/step - loss: 0.1074 - accuracy: 0.9678 - val_loss: 0.1082 - val_accuracy: 0.9689\n",
      "Epoch 9/50\n",
      "563/563 [==============================] - 0s 777us/step - loss: 0.1071 - accuracy: 0.9681 - val_loss: 0.1016 - val_accuracy: 0.9711\n",
      "Epoch 10/50\n",
      "563/563 [==============================] - 0s 767us/step - loss: 0.1051 - accuracy: 0.9698 - val_loss: 0.1058 - val_accuracy: 0.9729\n",
      "Epoch 11/50\n",
      "563/563 [==============================] - 0s 759us/step - loss: 0.1052 - accuracy: 0.9706 - val_loss: 0.1017 - val_accuracy: 0.9716\n",
      "Epoch 12/50\n",
      "563/563 [==============================] - 0s 738us/step - loss: 0.1044 - accuracy: 0.9692 - val_loss: 0.1065 - val_accuracy: 0.9716\n",
      "Epoch 13/50\n",
      "563/563 [==============================] - 0s 764us/step - loss: 0.1048 - accuracy: 0.9688 - val_loss: 0.1019 - val_accuracy: 0.9707\n",
      "Epoch 14/50\n",
      "563/563 [==============================] - 0s 777us/step - loss: 0.1027 - accuracy: 0.9706 - val_loss: 0.1118 - val_accuracy: 0.9676\n",
      "Epoch 15/50\n",
      "563/563 [==============================] - 0s 750us/step - loss: 0.1026 - accuracy: 0.9700 - val_loss: 0.1010 - val_accuracy: 0.9711\n",
      "Epoch 16/50\n",
      "563/563 [==============================] - 0s 758us/step - loss: 0.1023 - accuracy: 0.9701 - val_loss: 0.1020 - val_accuracy: 0.9720\n",
      "Epoch 17/50\n",
      "563/563 [==============================] - 0s 738us/step - loss: 0.1016 - accuracy: 0.9709 - val_loss: 0.1000 - val_accuracy: 0.9729\n",
      "Epoch 18/50\n",
      "563/563 [==============================] - 0s 749us/step - loss: 0.1017 - accuracy: 0.9698 - val_loss: 0.1054 - val_accuracy: 0.9711\n",
      "Epoch 19/50\n",
      "563/563 [==============================] - 0s 759us/step - loss: 0.1013 - accuracy: 0.9707 - val_loss: 0.1059 - val_accuracy: 0.9724\n",
      "Epoch 20/50\n",
      "563/563 [==============================] - 0s 835us/step - loss: 0.1007 - accuracy: 0.9712 - val_loss: 0.1030 - val_accuracy: 0.9724\n",
      "Epoch 21/50\n",
      "563/563 [==============================] - 0s 765us/step - loss: 0.0995 - accuracy: 0.9710 - val_loss: 0.1015 - val_accuracy: 0.9733\n",
      "Epoch 22/50\n",
      "563/563 [==============================] - 0s 761us/step - loss: 0.0988 - accuracy: 0.9707 - val_loss: 0.1029 - val_accuracy: 0.9720\n",
      "Epoch 23/50\n",
      "563/563 [==============================] - 0s 754us/step - loss: 0.1001 - accuracy: 0.9711 - val_loss: 0.1024 - val_accuracy: 0.9729\n",
      "Epoch 24/50\n",
      "563/563 [==============================] - 0s 795us/step - loss: 0.0978 - accuracy: 0.9720 - val_loss: 0.1031 - val_accuracy: 0.9724\n",
      "Epoch 25/50\n",
      "563/563 [==============================] - 0s 749us/step - loss: 0.0991 - accuracy: 0.9713 - val_loss: 0.1042 - val_accuracy: 0.9724\n",
      "Epoch 26/50\n",
      "563/563 [==============================] - 0s 756us/step - loss: 0.0982 - accuracy: 0.9711 - val_loss: 0.1046 - val_accuracy: 0.9716\n",
      "Epoch 27/50\n",
      "563/563 [==============================] - 1s 935us/step - loss: 0.0973 - accuracy: 0.9727 - val_loss: 0.1059 - val_accuracy: 0.9698\n",
      "Epoch 28/50\n",
      "563/563 [==============================] - 1s 1ms/step - loss: 0.0980 - accuracy: 0.9718 - val_loss: 0.1003 - val_accuracy: 0.9733\n",
      "Epoch 29/50\n",
      "563/563 [==============================] - 1s 1ms/step - loss: 0.0966 - accuracy: 0.9721 - val_loss: 0.1015 - val_accuracy: 0.9720\n",
      "Epoch 30/50\n",
      "563/563 [==============================] - 1s 1ms/step - loss: 0.0973 - accuracy: 0.9713 - val_loss: 0.1090 - val_accuracy: 0.9716\n",
      "Epoch 31/50\n",
      "563/563 [==============================] - 1s 1ms/step - loss: 0.0972 - accuracy: 0.9720 - val_loss: 0.1025 - val_accuracy: 0.9738\n",
      "Epoch 32/50\n",
      "563/563 [==============================] - 1s 1ms/step - loss: 0.0964 - accuracy: 0.9713 - val_loss: 0.1018 - val_accuracy: 0.9724\n",
      "Epoch 33/50\n",
      "563/563 [==============================] - 1s 1ms/step - loss: 0.0960 - accuracy: 0.9721 - val_loss: 0.1025 - val_accuracy: 0.9738\n",
      "Epoch 34/50\n",
      "563/563 [==============================] - 1s 1ms/step - loss: 0.0952 - accuracy: 0.9712 - val_loss: 0.1033 - val_accuracy: 0.9742\n",
      "Epoch 35/50\n",
      "563/563 [==============================] - 1s 967us/step - loss: 0.0959 - accuracy: 0.9708 - val_loss: 0.1034 - val_accuracy: 0.9724\n",
      "Epoch 36/50\n",
      "563/563 [==============================] - 1s 942us/step - loss: 0.0944 - accuracy: 0.9732 - val_loss: 0.1042 - val_accuracy: 0.9716\n",
      "Epoch 37/50\n",
      "563/563 [==============================] - 1s 963us/step - loss: 0.0947 - accuracy: 0.9717 - val_loss: 0.1049 - val_accuracy: 0.9720\n",
      "Epoch 38/50\n",
      "563/563 [==============================] - 1s 1ms/step - loss: 0.0938 - accuracy: 0.9729 - val_loss: 0.1043 - val_accuracy: 0.9720\n",
      "Epoch 39/50\n",
      "563/563 [==============================] - 1s 899us/step - loss: 0.0939 - accuracy: 0.9722 - val_loss: 0.1057 - val_accuracy: 0.9720\n",
      "Epoch 40/50\n",
      "563/563 [==============================] - 1s 982us/step - loss: 0.0941 - accuracy: 0.9710 - val_loss: 0.1048 - val_accuracy: 0.9689\n",
      "Epoch 41/50\n",
      "563/563 [==============================] - 1s 965us/step - loss: 0.0945 - accuracy: 0.9720 - val_loss: 0.1051 - val_accuracy: 0.9711\n",
      "Epoch 42/50\n",
      "563/563 [==============================] - 1s 931us/step - loss: 0.0932 - accuracy: 0.9721 - val_loss: 0.1082 - val_accuracy: 0.9716\n",
      "Epoch 43/50\n",
      "563/563 [==============================] - 1s 1ms/step - loss: 0.0945 - accuracy: 0.9718 - val_loss: 0.1115 - val_accuracy: 0.9716\n",
      "Epoch 44/50\n",
      "563/563 [==============================] - 1s 986us/step - loss: 0.0935 - accuracy: 0.9714 - val_loss: 0.1038 - val_accuracy: 0.9720\n",
      "Epoch 45/50\n",
      "563/563 [==============================] - 1s 984us/step - loss: 0.0929 - accuracy: 0.9729 - val_loss: 0.1051 - val_accuracy: 0.9716\n",
      "Epoch 46/50\n",
      "563/563 [==============================] - 1s 965us/step - loss: 0.0949 - accuracy: 0.9712 - val_loss: 0.1071 - val_accuracy: 0.9720\n",
      "Epoch 47/50\n",
      "563/563 [==============================] - 1s 942us/step - loss: 0.0938 - accuracy: 0.9714 - val_loss: 0.1050 - val_accuracy: 0.9716\n",
      "Epoch 48/50\n",
      "563/563 [==============================] - 1s 965us/step - loss: 0.0930 - accuracy: 0.9727 - val_loss: 0.1033 - val_accuracy: 0.9716\n",
      "Epoch 49/50\n",
      "563/563 [==============================] - 1s 943us/step - loss: 0.0921 - accuracy: 0.9722 - val_loss: 0.1020 - val_accuracy: 0.9729\n",
      "Epoch 50/50\n",
      "563/563 [==============================] - 1s 942us/step - loss: 0.0922 - accuracy: 0.9720 - val_loss: 0.1079 - val_accuracy: 0.9707\n"
     ]
    },
    {
     "data": {
      "text/plain": [
       "<keras.callbacks.History at 0x20150125d00>"
      ]
     },
     "execution_count": 111,
     "metadata": {},
     "output_type": "execute_result"
    }
   ],
   "source": [
    "classifier.fit(X_train, y_train, batch_size = 16, epochs = 50, validation_split=0.2)"
   ]
  },
  {
   "cell_type": "code",
   "execution_count": 112,
   "id": "3f5fc830",
   "metadata": {},
   "outputs": [
    {
     "name": "stdout",
     "output_type": "stream",
     "text": [
      "118/118 [==============================] - 0s 461us/step - loss: 0.1201 - accuracy: 0.9653\n"
     ]
    },
    {
     "data": {
      "text/plain": [
       "[0.12013793736696243, 0.9653333425521851]"
      ]
     },
     "execution_count": 112,
     "metadata": {},
     "output_type": "execute_result"
    }
   ],
   "source": [
    "classifier.evaluate(X_test, y_test)"
   ]
  },
  {
   "cell_type": "code",
   "execution_count": 113,
   "id": "5cb20791",
   "metadata": {},
   "outputs": [
    {
     "name": "stdout",
     "output_type": "stream",
     "text": [
      "118/118 [==============================] - 0s 392us/step\n",
      "[[2814   46]\n",
      " [  84  806]]\n",
      "              precision    recall  f1-score   support\n",
      "\n",
      "           0       0.97      0.98      0.98      2860\n",
      "           1       0.95      0.91      0.93       890\n",
      "\n",
      "    accuracy                           0.97      3750\n",
      "   macro avg       0.96      0.94      0.95      3750\n",
      "weighted avg       0.97      0.97      0.97      3750\n",
      "\n"
     ]
    }
   ],
   "source": [
    "y_pred = classifier.predict(X_test)\n",
    "y_pred = np.round(y_pred)\n",
    "cm = confusion_matrix(y_test, y_pred)\n",
    "print(cm)\n",
    "## Classification Report\n",
    "print(classification_report(y_test, y_pred))"
   ]
  },
  {
   "cell_type": "markdown",
   "id": "049d565f",
   "metadata": {},
   "source": [
    "## Using callbacks"
   ]
  },
  {
   "cell_type": "code",
   "execution_count": 114,
   "id": "6827b8de",
   "metadata": {},
   "outputs": [],
   "source": [
    "## function to plot the history of callbacks.\n",
    "def plot_loss(loss,val_loss):\n",
    "  plt.figure()\n",
    "  plt.plot(loss)\n",
    "  plt.plot(val_loss)\n",
    "  plt.title('Model loss')\n",
    "  plt.ylabel('Loss')\n",
    "  plt.xlabel('Epoch')\n",
    "  plt.legend(['Train', 'Test'], loc='upper right')\n",
    "  plt.show()\n"
   ]
  },
  {
   "cell_type": "code",
   "execution_count": 115,
   "id": "6bcee2f5",
   "metadata": {},
   "outputs": [
    {
     "name": "stdout",
     "output_type": "stream",
     "text": [
      "Epoch 1/100\n",
      "704/704 [==============================] - 1s 757us/step - loss: 0.0963 - accuracy: 0.9716 - val_loss: 0.1201 - val_accuracy: 0.9659\n",
      "Epoch 2/100\n",
      "704/704 [==============================] - 1s 762us/step - loss: 0.0946 - accuracy: 0.9717 - val_loss: 0.1123 - val_accuracy: 0.9669\n",
      "Epoch 3/100\n",
      "704/704 [==============================] - 1s 753us/step - loss: 0.0943 - accuracy: 0.9724 - val_loss: 0.1157 - val_accuracy: 0.9669\n",
      "Epoch 4/100\n",
      "704/704 [==============================] - 1s 756us/step - loss: 0.0927 - accuracy: 0.9724 - val_loss: 0.1191 - val_accuracy: 0.9651\n",
      "Epoch 5/100\n",
      "704/704 [==============================] - 1s 837us/step - loss: 0.0936 - accuracy: 0.9718 - val_loss: 0.1198 - val_accuracy: 0.9669\n",
      "Epoch 6/100\n",
      "704/704 [==============================] - 1s 763us/step - loss: 0.0941 - accuracy: 0.9724 - val_loss: 0.1130 - val_accuracy: 0.9669\n",
      "Epoch 7/100\n",
      "704/704 [==============================] - 1s 762us/step - loss: 0.0932 - accuracy: 0.9719 - val_loss: 0.1186 - val_accuracy: 0.9669\n",
      "Epoch 8/100\n",
      "704/704 [==============================] - 1s 770us/step - loss: 0.0934 - accuracy: 0.9727 - val_loss: 0.1159 - val_accuracy: 0.9656\n",
      "Epoch 9/100\n",
      "704/704 [==============================] - 1s 753us/step - loss: 0.0918 - accuracy: 0.9727 - val_loss: 0.1208 - val_accuracy: 0.9661\n",
      "Epoch 10/100\n",
      "704/704 [==============================] - 1s 768us/step - loss: 0.0935 - accuracy: 0.9720 - val_loss: 0.1156 - val_accuracy: 0.9664\n",
      "Epoch 11/100\n",
      "704/704 [==============================] - 1s 798us/step - loss: 0.0922 - accuracy: 0.9726 - val_loss: 0.1138 - val_accuracy: 0.9672\n",
      "Epoch 12/100\n",
      "704/704 [==============================] - 1s 808us/step - loss: 0.0917 - accuracy: 0.9718 - val_loss: 0.1152 - val_accuracy: 0.9653\n",
      "Epoch 13/100\n",
      "704/704 [==============================] - 1s 760us/step - loss: 0.0916 - accuracy: 0.9729 - val_loss: 0.1148 - val_accuracy: 0.9653\n",
      "Epoch 14/100\n",
      "704/704 [==============================] - 1s 761us/step - loss: 0.0913 - accuracy: 0.9721 - val_loss: 0.1137 - val_accuracy: 0.9677\n",
      "Epoch 15/100\n",
      "704/704 [==============================] - 1s 764us/step - loss: 0.0910 - accuracy: 0.9730 - val_loss: 0.1127 - val_accuracy: 0.9667\n",
      "Epoch 16/100\n",
      "704/704 [==============================] - 1s 797us/step - loss: 0.0918 - accuracy: 0.9718 - val_loss: 0.1149 - val_accuracy: 0.9659\n",
      "Epoch 17/100\n",
      "704/704 [==============================] - 1s 804us/step - loss: 0.0906 - accuracy: 0.9739 - val_loss: 0.1142 - val_accuracy: 0.9672\n",
      "Epoch 18/100\n",
      "704/704 [==============================] - 1s 792us/step - loss: 0.0908 - accuracy: 0.9726 - val_loss: 0.1140 - val_accuracy: 0.9677\n",
      "Epoch 19/100\n",
      "704/704 [==============================] - 1s 805us/step - loss: 0.0906 - accuracy: 0.9727 - val_loss: 0.1146 - val_accuracy: 0.9680\n",
      "Epoch 20/100\n",
      "704/704 [==============================] - 1s 792us/step - loss: 0.0909 - accuracy: 0.9723 - val_loss: 0.1146 - val_accuracy: 0.9680\n",
      "Epoch 21/100\n",
      "704/704 [==============================] - 1s 777us/step - loss: 0.0905 - accuracy: 0.9730 - val_loss: 0.1149 - val_accuracy: 0.9680\n",
      "Epoch 22/100\n",
      "704/704 [==============================] - 1s 790us/step - loss: 0.0903 - accuracy: 0.9730 - val_loss: 0.1119 - val_accuracy: 0.9688\n",
      "Epoch 23/100\n",
      "704/704 [==============================] - 1s 793us/step - loss: 0.0910 - accuracy: 0.9727 - val_loss: 0.1163 - val_accuracy: 0.9672\n",
      "Epoch 24/100\n",
      "704/704 [==============================] - 1s 790us/step - loss: 0.0898 - accuracy: 0.9732 - val_loss: 0.1121 - val_accuracy: 0.9677\n",
      "Epoch 25/100\n",
      "704/704 [==============================] - 1s 799us/step - loss: 0.0904 - accuracy: 0.9732 - val_loss: 0.1131 - val_accuracy: 0.9675\n",
      "Epoch 26/100\n",
      "704/704 [==============================] - 1s 827us/step - loss: 0.0903 - accuracy: 0.9728 - val_loss: 0.1181 - val_accuracy: 0.9667\n",
      "Epoch 27/100\n",
      "704/704 [==============================] - 1s 827us/step - loss: 0.0897 - accuracy: 0.9728 - val_loss: 0.1160 - val_accuracy: 0.9680\n",
      "Epoch 28/100\n",
      "704/704 [==============================] - 1s 821us/step - loss: 0.0895 - accuracy: 0.9723 - val_loss: 0.1161 - val_accuracy: 0.9667\n",
      "Epoch 29/100\n",
      "704/704 [==============================] - 1s 802us/step - loss: 0.0895 - accuracy: 0.9720 - val_loss: 0.1146 - val_accuracy: 0.9651\n",
      "Epoch 30/100\n",
      "704/704 [==============================] - 1s 796us/step - loss: 0.0893 - accuracy: 0.9733 - val_loss: 0.1204 - val_accuracy: 0.9645\n",
      "Epoch 31/100\n",
      "704/704 [==============================] - 1s 813us/step - loss: 0.0905 - accuracy: 0.9726 - val_loss: 0.1109 - val_accuracy: 0.9691\n",
      "Epoch 32/100\n",
      "704/704 [==============================] - 1s 787us/step - loss: 0.0886 - accuracy: 0.9727 - val_loss: 0.1138 - val_accuracy: 0.9677\n",
      "Epoch 33/100\n",
      "704/704 [==============================] - 1s 825us/step - loss: 0.0883 - accuracy: 0.9723 - val_loss: 0.1113 - val_accuracy: 0.9693\n",
      "Epoch 34/100\n",
      "704/704 [==============================] - 1s 845us/step - loss: 0.0886 - accuracy: 0.9735 - val_loss: 0.1167 - val_accuracy: 0.9677\n",
      "Epoch 35/100\n",
      "704/704 [==============================] - 1s 811us/step - loss: 0.0898 - accuracy: 0.9726 - val_loss: 0.1156 - val_accuracy: 0.9691\n",
      "Epoch 36/100\n",
      "704/704 [==============================] - 1s 810us/step - loss: 0.0888 - accuracy: 0.9730 - val_loss: 0.1107 - val_accuracy: 0.9685\n",
      "Epoch 37/100\n",
      "704/704 [==============================] - 1s 817us/step - loss: 0.0883 - accuracy: 0.9727 - val_loss: 0.1115 - val_accuracy: 0.9688\n",
      "Epoch 38/100\n",
      "704/704 [==============================] - 1s 817us/step - loss: 0.0889 - accuracy: 0.9726 - val_loss: 0.1162 - val_accuracy: 0.9664\n",
      "Epoch 39/100\n",
      "704/704 [==============================] - 1s 794us/step - loss: 0.0883 - accuracy: 0.9741 - val_loss: 0.1119 - val_accuracy: 0.9688\n",
      "Epoch 40/100\n",
      "704/704 [==============================] - 1s 794us/step - loss: 0.0882 - accuracy: 0.9731 - val_loss: 0.1129 - val_accuracy: 0.9680\n",
      "Epoch 41/100\n",
      "704/704 [==============================] - 1s 797us/step - loss: 0.0881 - accuracy: 0.9743 - val_loss: 0.1131 - val_accuracy: 0.9693\n",
      "Epoch 42/100\n",
      "704/704 [==============================] - 1s 797us/step - loss: 0.0889 - accuracy: 0.9733 - val_loss: 0.1124 - val_accuracy: 0.9680\n",
      "Epoch 43/100\n",
      "704/704 [==============================] - 1s 817us/step - loss: 0.0881 - accuracy: 0.9736 - val_loss: 0.1166 - val_accuracy: 0.9667\n",
      "Epoch 44/100\n",
      "704/704 [==============================] - 1s 827us/step - loss: 0.0885 - accuracy: 0.9731 - val_loss: 0.1129 - val_accuracy: 0.9672\n",
      "Epoch 45/100\n",
      "704/704 [==============================] - 1s 828us/step - loss: 0.0876 - accuracy: 0.9740 - val_loss: 0.1181 - val_accuracy: 0.9669\n",
      "Epoch 46/100\n",
      "704/704 [==============================] - 1s 794us/step - loss: 0.0880 - accuracy: 0.9734 - val_loss: 0.1137 - val_accuracy: 0.9677\n",
      "Epoch 47/100\n",
      "704/704 [==============================] - 1s 826us/step - loss: 0.0874 - accuracy: 0.9732 - val_loss: 0.1130 - val_accuracy: 0.9688\n",
      "Epoch 48/100\n",
      "704/704 [==============================] - 1s 831us/step - loss: 0.0870 - accuracy: 0.9738 - val_loss: 0.1137 - val_accuracy: 0.9699\n",
      "Epoch 49/100\n",
      "704/704 [==============================] - 1s 822us/step - loss: 0.0871 - accuracy: 0.9736 - val_loss: 0.1175 - val_accuracy: 0.9661\n",
      "Epoch 50/100\n",
      "704/704 [==============================] - 1s 857us/step - loss: 0.0889 - accuracy: 0.9733 - val_loss: 0.1116 - val_accuracy: 0.9672\n",
      "Epoch 51/100\n",
      "704/704 [==============================] - 1s 941us/step - loss: 0.0877 - accuracy: 0.9726 - val_loss: 0.1166 - val_accuracy: 0.9683\n",
      "Epoch 52/100\n",
      "704/704 [==============================] - 1s 932us/step - loss: 0.0879 - accuracy: 0.9732 - val_loss: 0.1142 - val_accuracy: 0.9669\n",
      "Epoch 53/100\n",
      "704/704 [==============================] - 1s 937us/step - loss: 0.0874 - accuracy: 0.9738 - val_loss: 0.1104 - val_accuracy: 0.9693\n",
      "Epoch 54/100\n",
      "704/704 [==============================] - 1s 947us/step - loss: 0.0874 - accuracy: 0.9725 - val_loss: 0.1146 - val_accuracy: 0.9683\n",
      "Epoch 55/100\n",
      "704/704 [==============================] - 1s 951us/step - loss: 0.0872 - accuracy: 0.9735 - val_loss: 0.1147 - val_accuracy: 0.9669\n",
      "Epoch 56/100\n",
      "704/704 [==============================] - 1s 923us/step - loss: 0.0876 - accuracy: 0.9728 - val_loss: 0.1188 - val_accuracy: 0.9648\n",
      "Epoch 57/100\n"
     ]
    },
    {
     "name": "stdout",
     "output_type": "stream",
     "text": [
      "704/704 [==============================] - 1s 949us/step - loss: 0.0873 - accuracy: 0.9728 - val_loss: 0.1159 - val_accuracy: 0.9691\n",
      "Epoch 58/100\n",
      "704/704 [==============================] - 1s 919us/step - loss: 0.0863 - accuracy: 0.9740 - val_loss: 0.1103 - val_accuracy: 0.9683\n",
      "Epoch 59/100\n",
      "704/704 [==============================] - 1s 919us/step - loss: 0.0876 - accuracy: 0.9731 - val_loss: 0.1137 - val_accuracy: 0.9691\n",
      "Epoch 60/100\n",
      "704/704 [==============================] - 1s 996us/step - loss: 0.0876 - accuracy: 0.9728 - val_loss: 0.1117 - val_accuracy: 0.9680\n",
      "Epoch 61/100\n",
      "704/704 [==============================] - 1s 943us/step - loss: 0.0882 - accuracy: 0.9732 - val_loss: 0.1161 - val_accuracy: 0.9669\n",
      "Epoch 62/100\n",
      "704/704 [==============================] - 1s 865us/step - loss: 0.0866 - accuracy: 0.9739 - val_loss: 0.1158 - val_accuracy: 0.9675\n",
      "Epoch 63/100\n",
      "704/704 [==============================] - 1s 899us/step - loss: 0.0868 - accuracy: 0.9732 - val_loss: 0.1171 - val_accuracy: 0.9656\n",
      "Epoch 64/100\n",
      "704/704 [==============================] - 1s 907us/step - loss: 0.0873 - accuracy: 0.9730 - val_loss: 0.1146 - val_accuracy: 0.9680\n",
      "Epoch 65/100\n",
      "704/704 [==============================] - 1s 940us/step - loss: 0.0863 - accuracy: 0.9737 - val_loss: 0.1128 - val_accuracy: 0.9707\n",
      "Epoch 66/100\n",
      "704/704 [==============================] - 1s 912us/step - loss: 0.0858 - accuracy: 0.9738 - val_loss: 0.1165 - val_accuracy: 0.9645\n",
      "Epoch 67/100\n",
      "704/704 [==============================] - 1s 871us/step - loss: 0.0869 - accuracy: 0.9741 - val_loss: 0.1151 - val_accuracy: 0.9683\n",
      "Epoch 68/100\n",
      "704/704 [==============================] - 1s 893us/step - loss: 0.0868 - accuracy: 0.9732 - val_loss: 0.1129 - val_accuracy: 0.9677\n",
      "Epoch 69/100\n",
      "704/704 [==============================] - 1s 960us/step - loss: 0.0874 - accuracy: 0.9733 - val_loss: 0.1142 - val_accuracy: 0.9672\n",
      "Epoch 70/100\n",
      "704/704 [==============================] - 1s 889us/step - loss: 0.0876 - accuracy: 0.9737 - val_loss: 0.1125 - val_accuracy: 0.9669\n",
      "Epoch 71/100\n",
      "704/704 [==============================] - 1s 1ms/step - loss: 0.0861 - accuracy: 0.9735 - val_loss: 0.1134 - val_accuracy: 0.9664\n",
      "Epoch 72/100\n",
      "704/704 [==============================] - 1s 924us/step - loss: 0.0856 - accuracy: 0.9740 - val_loss: 0.1125 - val_accuracy: 0.9675\n",
      "Epoch 73/100\n",
      "704/704 [==============================] - 1s 923us/step - loss: 0.0859 - accuracy: 0.9737 - val_loss: 0.1145 - val_accuracy: 0.9669\n",
      "Epoch 74/100\n",
      "704/704 [==============================] - 1s 875us/step - loss: 0.0862 - accuracy: 0.9731 - val_loss: 0.1152 - val_accuracy: 0.9677\n",
      "Epoch 75/100\n",
      "704/704 [==============================] - 1s 888us/step - loss: 0.0870 - accuracy: 0.9738 - val_loss: 0.1137 - val_accuracy: 0.9704\n",
      "Epoch 76/100\n",
      "704/704 [==============================] - 1s 915us/step - loss: 0.0853 - accuracy: 0.9743 - val_loss: 0.1186 - val_accuracy: 0.9675\n",
      "Epoch 77/100\n",
      "704/704 [==============================] - 1s 941us/step - loss: 0.0860 - accuracy: 0.9735 - val_loss: 0.1194 - val_accuracy: 0.9629\n",
      "Epoch 78/100\n",
      "704/704 [==============================] - 1s 927us/step - loss: 0.0877 - accuracy: 0.9741 - val_loss: 0.1175 - val_accuracy: 0.9661\n",
      "Epoch 79/100\n",
      "704/704 [==============================] - 1s 932us/step - loss: 0.0868 - accuracy: 0.9740 - val_loss: 0.1131 - val_accuracy: 0.9672\n",
      "Epoch 80/100\n",
      "704/704 [==============================] - 1s 922us/step - loss: 0.0859 - accuracy: 0.9748 - val_loss: 0.1131 - val_accuracy: 0.9691\n",
      "Epoch 81/100\n",
      "704/704 [==============================] - 1s 916us/step - loss: 0.0861 - accuracy: 0.9740 - val_loss: 0.1154 - val_accuracy: 0.9680\n",
      "Epoch 82/100\n",
      "704/704 [==============================] - 1s 917us/step - loss: 0.0855 - accuracy: 0.9742 - val_loss: 0.1130 - val_accuracy: 0.9672\n",
      "Epoch 83/100\n",
      "704/704 [==============================] - 1s 907us/step - loss: 0.0860 - accuracy: 0.9732 - val_loss: 0.1148 - val_accuracy: 0.9677\n",
      "Epoch 84/100\n",
      "704/704 [==============================] - 1s 915us/step - loss: 0.0852 - accuracy: 0.9747 - val_loss: 0.1141 - val_accuracy: 0.9675\n",
      "Epoch 85/100\n",
      "704/704 [==============================] - 1s 1ms/step - loss: 0.0861 - accuracy: 0.9734 - val_loss: 0.1132 - val_accuracy: 0.9680\n",
      "Epoch 86/100\n",
      "704/704 [==============================] - 1s 927us/step - loss: 0.0862 - accuracy: 0.9735 - val_loss: 0.1168 - val_accuracy: 0.9653\n",
      "Epoch 87/100\n",
      "704/704 [==============================] - 1s 920us/step - loss: 0.0858 - accuracy: 0.9745 - val_loss: 0.1151 - val_accuracy: 0.9688\n",
      "Epoch 88/100\n",
      "704/704 [==============================] - 1s 927us/step - loss: 0.0873 - accuracy: 0.9728 - val_loss: 0.1134 - val_accuracy: 0.9685\n",
      "Epoch 89/100\n",
      "704/704 [==============================] - 1s 920us/step - loss: 0.0856 - accuracy: 0.9738 - val_loss: 0.1131 - val_accuracy: 0.9675\n",
      "Epoch 90/100\n",
      "704/704 [==============================] - 1s 919us/step - loss: 0.0857 - accuracy: 0.9741 - val_loss: 0.1157 - val_accuracy: 0.9672\n",
      "Epoch 91/100\n",
      "704/704 [==============================] - 1s 917us/step - loss: 0.0854 - accuracy: 0.9746 - val_loss: 0.1195 - val_accuracy: 0.9651\n",
      "Epoch 92/100\n",
      "704/704 [==============================] - 1s 905us/step - loss: 0.0853 - accuracy: 0.9742 - val_loss: 0.1184 - val_accuracy: 0.9667\n",
      "Epoch 93/100\n",
      "704/704 [==============================] - 1s 929us/step - loss: 0.0848 - accuracy: 0.9746 - val_loss: 0.1154 - val_accuracy: 0.9699\n",
      "Epoch 94/100\n",
      "704/704 [==============================] - 1s 954us/step - loss: 0.0864 - accuracy: 0.9733 - val_loss: 0.1180 - val_accuracy: 0.9672\n",
      "Epoch 95/100\n",
      "704/704 [==============================] - 1s 1ms/step - loss: 0.0855 - accuracy: 0.9737 - val_loss: 0.1158 - val_accuracy: 0.9672\n",
      "Epoch 96/100\n",
      "704/704 [==============================] - 1s 991us/step - loss: 0.0858 - accuracy: 0.9740 - val_loss: 0.1142 - val_accuracy: 0.9683\n",
      "Epoch 97/100\n",
      "704/704 [==============================] - 1s 981us/step - loss: 0.0856 - accuracy: 0.9737 - val_loss: 0.1176 - val_accuracy: 0.9651\n",
      "Epoch 98/100\n",
      "704/704 [==============================] - 1s 974us/step - loss: 0.0859 - accuracy: 0.9742 - val_loss: 0.1129 - val_accuracy: 0.9685\n",
      "Epoch 99/100\n",
      "704/704 [==============================] - 1s 978us/step - loss: 0.0853 - accuracy: 0.9745 - val_loss: 0.1148 - val_accuracy: 0.9685\n",
      "Epoch 100/100\n",
      "704/704 [==============================] - 1s 1ms/step - loss: 0.0857 - accuracy: 0.9733 - val_loss: 0.1162 - val_accuracy: 0.9688\n"
     ]
    }
   ],
   "source": [
    "h_callback = classifier.fit(X_train, y_train, batch_size = 16, epochs = 100, validation_data=(X_test, y_test))"
   ]
  },
  {
   "cell_type": "code",
   "execution_count": 67,
   "id": "1cf1d101",
   "metadata": {},
   "outputs": [
    {
     "data": {
      "text/plain": [
       "keras.callbacks.History"
      ]
     },
     "execution_count": 67,
     "metadata": {},
     "output_type": "execute_result"
    }
   ],
   "source": [
    "type(h_callback)"
   ]
  },
  {
   "cell_type": "code",
   "execution_count": 70,
   "id": "fdfb4c71",
   "metadata": {},
   "outputs": [
    {
     "data": {
      "text/plain": [
       "dict_keys(['loss', 'accuracy', 'val_loss', 'val_accuracy'])"
      ]
     },
     "execution_count": 70,
     "metadata": {},
     "output_type": "execute_result"
    }
   ],
   "source": [
    "h_callback.history.keys()"
   ]
  },
  {
   "cell_type": "code",
   "execution_count": 116,
   "id": "cd6733a6",
   "metadata": {},
   "outputs": [
    {
     "data": {
      "image/png": "[encoded data removed]",
      "text/plain": [
       "<Figure size 432x288 with 1 Axes>"
      ]
     },
     "metadata": {
      "needs_background": "light"
     },
     "output_type": "display_data"
    }
   ],
   "source": [
    "import  matplotlib.pyplot as plt\n",
    "# Plot train vs test loss during training\n",
    "plot_loss(h_callback.history['loss'], h_callback.history['val_loss'])\n"
   ]
  },
  {
   "cell_type": "code",
   "execution_count": 117,
   "id": "25bb00db",
   "metadata": {},
   "outputs": [
    {
     "name": "stdout",
     "output_type": "stream",
     "text": [
      "118/118 [==============================] - 0s 528us/step\n",
      "[[2812   48]\n",
      " [  69  821]]\n",
      "              precision    recall  f1-score   support\n",
      "\n",
      "           0       0.98      0.98      0.98      2860\n",
      "           1       0.94      0.92      0.93       890\n",
      "\n",
      "    accuracy                           0.97      3750\n",
      "   macro avg       0.96      0.95      0.96      3750\n",
      "weighted avg       0.97      0.97      0.97      3750\n",
      "\n"
     ]
    }
   ],
   "source": [
    "y_pred = classifier.predict(X_test)\n",
    "y_pred = np.round(y_pred)\n",
    "cm = confusion_matrix(y_test, y_pred)\n",
    "print(cm)\n",
    "## Classification Report\n",
    "print(classification_report(y_test, y_pred))"
   ]
  },
  {
   "cell_type": "markdown",
   "id": "686e405e",
   "metadata": {},
   "source": [
    "### Early Stopping Callback"
   ]
  },
  {
   "cell_type": "code",
   "execution_count": 118,
   "id": "98979317",
   "metadata": {},
   "outputs": [],
   "source": [
    "## Importing the EarlyStopping call back function\n",
    "from keras.callbacks import EarlyStopping"
   ]
  },
  {
   "cell_type": "code",
   "execution_count": 119,
   "id": "1f7c04f3",
   "metadata": {},
   "outputs": [],
   "source": [
    "earlystopping = EarlyStopping(monitor='val_loss', patience=5)"
   ]
  },
  {
   "cell_type": "code",
   "execution_count": 120,
   "id": "3eadf574",
   "metadata": {},
   "outputs": [
    {
     "name": "stdout",
     "output_type": "stream",
     "text": [
      "Epoch 1/100\n",
      "704/704 [==============================] - 1s 786us/step - loss: 0.0856 - accuracy: 0.9740 - val_loss: 0.1154 - val_accuracy: 0.9667\n",
      "Epoch 2/100\n",
      "704/704 [==============================] - 1s 767us/step - loss: 0.0857 - accuracy: 0.9740 - val_loss: 0.1146 - val_accuracy: 0.9664\n",
      "Epoch 3/100\n",
      "704/704 [==============================] - 1s 769us/step - loss: 0.0851 - accuracy: 0.9737 - val_loss: 0.1156 - val_accuracy: 0.9675\n",
      "Epoch 4/100\n",
      "704/704 [==============================] - 1s 757us/step - loss: 0.0859 - accuracy: 0.9737 - val_loss: 0.1158 - val_accuracy: 0.9675\n",
      "Epoch 5/100\n",
      "704/704 [==============================] - 1s 774us/step - loss: 0.0848 - accuracy: 0.9737 - val_loss: 0.1176 - val_accuracy: 0.9669\n",
      "Epoch 6/100\n",
      "704/704 [==============================] - 1s 777us/step - loss: 0.0848 - accuracy: 0.9748 - val_loss: 0.1174 - val_accuracy: 0.9651\n",
      "Epoch 7/100\n",
      "704/704 [==============================] - 1s 779us/step - loss: 0.0859 - accuracy: 0.9752 - val_loss: 0.1160 - val_accuracy: 0.9675\n"
     ]
    }
   ],
   "source": [
    "h_callback = classifier.fit(X_train, y_train, batch_size = 16, epochs = 100, validation_data=(X_test, y_test), callbacks=[earlystopping])"
   ]
  },
  {
   "cell_type": "code",
   "execution_count": 121,
   "id": "2c4c4f25",
   "metadata": {},
   "outputs": [
    {
     "name": "stdout",
     "output_type": "stream",
     "text": [
      "118/118 [==============================] - 0s 477us/step - loss: 0.1160 - accuracy: 0.9675\n"
     ]
    },
    {
     "data": {
      "text/plain": [
       "[0.11600586771965027, 0.9674666523933411]"
      ]
     },
     "execution_count": 121,
     "metadata": {},
     "output_type": "execute_result"
    }
   ],
   "source": [
    "classifier.evaluate(X_test, y_test)"
   ]
  },
  {
   "cell_type": "code",
   "execution_count": 122,
   "id": "de589e11",
   "metadata": {},
   "outputs": [
    {
     "name": "stdout",
     "output_type": "stream",
     "text": [
      "118/118 [==============================] - 0s 400us/step\n"
     ]
    }
   ],
   "source": [
    "y_pred = classifier.predict(X_test)"
   ]
  },
  {
   "cell_type": "code",
   "execution_count": 123,
   "id": "08b748d6",
   "metadata": {},
   "outputs": [],
   "source": [
    "y_pred = np.round(y_pred)"
   ]
  },
  {
   "cell_type": "code",
   "execution_count": 124,
   "id": "d3960e70",
   "metadata": {},
   "outputs": [
    {
     "name": "stdout",
     "output_type": "stream",
     "text": [
      "              precision    recall  f1-score   support\n",
      "\n",
      "           0       0.98      0.98      0.98      2860\n",
      "           1       0.94      0.92      0.93       890\n",
      "\n",
      "    accuracy                           0.97      3750\n",
      "   macro avg       0.96      0.95      0.95      3750\n",
      "weighted avg       0.97      0.97      0.97      3750\n",
      "\n"
     ]
    }
   ],
   "source": [
    "print(classification_report(y_test, y_pred))"
   ]
  },
  {
   "cell_type": "code",
   "execution_count": 125,
   "id": "5b7e0c32",
   "metadata": {},
   "outputs": [
    {
     "data": {
      "text/plain": [
       "array([[2810,   72],\n",
       "       [  50,  818]], dtype=int64)"
      ]
     },
     "execution_count": 125,
     "metadata": {},
     "output_type": "execute_result"
    }
   ],
   "source": [
    "confusion_matrix(y_pred, y_test)"
   ]
  },
  {
   "cell_type": "code",
   "execution_count": null,
   "id": "5c5a97b2",
   "metadata": {},
   "outputs": [],
   "source": []
  }
 ],
 "metadata": {
  "kernelspec": {
   "display_name": "Python 3 (ipykernel)",
   "language": "python",
   "name": "python3"
  },
  "language_info": {
   "codemirror_mode": {
    "name": "ipython",
    "version": 3
   },
   "file_extension": ".py",
   "mimetype": "text/x-python",
   "name": "python",
   "nbconvert_exporter": "python",
   "pygments_lexer": "ipython3",
   "version": "3.9.7"
  }
 },
 "nbformat": 4,
 "nbformat_minor": 5
}
